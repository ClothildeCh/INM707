{
 "cells": [
  {
   "cell_type": "markdown",
   "id": "09b071e5",
   "metadata": {},
   "source": [
    "# Define an environment and the problem to be solved"
   ]
  },
  {
   "cell_type": "code",
   "execution_count": 1,
   "id": "39da1b6a",
   "metadata": {},
   "outputs": [],
   "source": [
    "# env is a  ?X? matrix"
   ]
  },
  {
   "cell_type": "markdown",
   "id": "460a3f15",
   "metadata": {},
   "source": [
    "# Libraries"
   ]
  },
  {
   "cell_type": "code",
   "execution_count": null,
   "id": "16680bb7",
   "metadata": {},
   "outputs": [],
   "source": [
    "import numpy as np\n",
    "import gymnasium as gym\n",
    "import random\n",
    "import time\n",
    "from IPython.display import clear_output"
   ]
  },
  {
   "cell_type": "markdown",
   "id": "4f48d999",
   "metadata": {},
   "source": [
    "# Create the environment "
   ]
  },
  {
   "cell_type": "code",
   "execution_count": null,
   "id": "26706d18",
   "metadata": {},
   "outputs": [],
   "source": [
    "env = "
   ]
  },
  {
   "cell_type": "markdown",
   "id": "2989e982",
   "metadata": {},
   "source": [
    "# Create R table"
   ]
  },
  {
   "cell_type": "code",
   "execution_count": null,
   "id": "f3408b08",
   "metadata": {},
   "outputs": [],
   "source": []
  },
  {
   "cell_type": "markdown",
   "id": "851ff92e",
   "metadata": {},
   "source": [
    "# Create the Q table "
   ]
  },
  {
   "cell_type": "code",
   "execution_count": null,
   "id": "890d21ce",
   "metadata": {},
   "outputs": [],
   "source": [
    "Q = np.zeros(R.shape)\n",
    "\n",
    "print('Q matrix: \\n\\n{}'.format(Q))"
   ]
  }
 ],
 "metadata": {
  "kernelspec": {
   "display_name": "Python 3 (ipykernel)",
   "language": "python",
   "name": "python3"
  },
  "language_info": {
   "codemirror_mode": {
    "name": "ipython",
    "version": 3
   },
   "file_extension": ".py",
   "mimetype": "text/x-python",
   "name": "python",
   "nbconvert_exporter": "python",
   "pygments_lexer": "ipython3",
   "version": "3.9.12"
  }
 },
 "nbformat": 4,
 "nbformat_minor": 5
}
