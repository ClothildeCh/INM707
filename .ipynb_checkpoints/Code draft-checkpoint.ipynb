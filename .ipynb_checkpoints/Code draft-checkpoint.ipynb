{
 "cells": [
  {
   "cell_type": "markdown",
   "id": "09b071e5",
   "metadata": {},
   "source": [
    "# Define an environment and the problem to be solved"
   ]
  },
  {
   "cell_type": "code",
   "execution_count": 1,
   "id": "39da1b6a",
   "metadata": {},
   "outputs": [],
   "source": [
    "# env is a  ?X? matrix    -  no restriction but cqn mqke it bigger later for difficulty "
   ]
  },
  {
   "cell_type": "markdown",
   "id": "460a3f15",
   "metadata": {},
   "source": [
    "# Libraries"
   ]
  },
  {
   "cell_type": "code",
   "execution_count": null,
   "id": "16680bb7",
   "metadata": {},
   "outputs": [],
   "source": [
    "import numpy as np\n",
    "import gymnasium as gym\n",
    "import random\n",
    "import time\n",
    "from IPython.display import clear_output"
   ]
  },
  {
   "cell_type": "markdown",
   "id": "72f55bad",
   "metadata": {},
   "source": [
    "# Define States and Actions "
   ]
  },
  {
   "cell_type": "code",
   "execution_count": null,
   "id": "da558f23",
   "metadata": {},
   "outputs": [],
   "source": [
    "S = A1 A2 A3 A4 A5 B1 ..."
   ]
  },
  {
   "cell_type": "code",
   "execution_count": null,
   "id": "0d45d48e",
   "metadata": {},
   "outputs": [],
   "source": [
    "A = up down left right "
   ]
  },
  {
   "cell_type": "markdown",
   "id": "2989e982",
   "metadata": {},
   "source": [
    "# Create R table"
   ]
  },
  {
   "cell_type": "code",
   "execution_count": null,
   "id": "f3408b08",
   "metadata": {},
   "outputs": [],
   "source": [
    "R = np.empty((5,5))\n",
    "R = np.array(R)\n",
    "R[:] = np.nan\n",
    "print(R)"
   ]
  },
  {
   "cell_type": "markdown",
   "id": "851ff92e",
   "metadata": {},
   "source": [
    "# Create the Q table "
   ]
  },
  {
   "cell_type": "code",
   "execution_count": null,
   "id": "890d21ce",
   "metadata": {},
   "outputs": [],
   "source": [
    "Q = np.zeros(R.shape)\n",
    "\n",
    "print('Q matrix: \\n\\n{}'.format(Q))"
   ]
  },
  {
   "cell_type": "code",
   "execution_count": null,
   "id": "afedfa56",
   "metadata": {},
   "outputs": [],
   "source": []
  }
 ],
 "metadata": {
  "kernelspec": {
   "display_name": "Python 3 (ipykernel)",
   "language": "python",
   "name": "python3"
  },
  "language_info": {
   "codemirror_mode": {
    "name": "ipython",
    "version": 3
   },
   "file_extension": ".py",
   "mimetype": "text/x-python",
   "name": "python",
   "nbconvert_exporter": "python",
   "pygments_lexer": "ipython3",
   "version": "3.9.12"
  }
 },
 "nbformat": 4,
 "nbformat_minor": 5
}
